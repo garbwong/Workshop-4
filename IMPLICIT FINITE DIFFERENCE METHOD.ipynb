{
 "metadata": {
  "name": "",
  "signature": "sha256:925fd2c04129242b195695348660333a4fdf8c42e74eb96b4f9cdde37ee55c93"
 },
 "nbformat": 3,
 "nbformat_minor": 0,
 "worksheets": [
  {
   "cells": [
    {
     "cell_type": "code",
     "collapsed": false,
     "input": [
      "import numpy as np\n",
      "def OptioncallI(Smax,M,T,N,K,r,sigma):\n",
      "    \n",
      "    #discretization\n",
      "    ds=Smax/float(M)   #step size for the stock\n",
      "    dt=T/float(N)      #step size for time\n",
      "    \n",
      "    i=np.arange(1,M,dtype=np.float)\n",
      "    \n",
      "    #initializing the risk neutral probabilities\n",
      "    \n",
      "    P=0.5*dt*(r*i-sigma**2*i**2)\n",
      "    Q=1+ dt*(sigma**2*i**2+r)\n",
      "    R=-0.5*dt*(sigma**2*i**2+r*i)\n",
      "    \n",
      "    A=np.diag(Q)+np.diag(P[1:],k=-1)+np.diag(R[0:M-2],k=1) #the tri-diagonal matrix\n",
      "    \n",
      "    F=np.zeros((N+1,M+1))  #The matrix for the option value\n",
      "    \n",
      "    #Boundary conditions\n",
      "    \n",
      "    F[N,:]=np.maximum(np.arange(0,Smax+ds/2.0,ds,dtype=np.float)-K,0)\n",
      "    F[:,0]=0\n",
      "    F[:,M]=[Smax * np.exp(-r*( N - j)*dt) for j in range(N+1)]\n",
      "    \n",
      "    for j in range(N-1,-1,-1):\n",
      "        d=F[j+1,1:M] \n",
      "        d[0]=d[0]-P[0]*F[j,0]   #inserts the first value\n",
      "        d[M-2]=d[M-2]-R[M-2]*F[j,M]   #inserts the last value\n",
      "\n",
      "        F[j,1:M]=np.linalg.solve(A,d) #solves the simultaneous equations\n",
      "        F[j,:]=np.maximum(np.arange(0,Smax+ds/2.0,ds,dtype=np.float)-K,F[j,:]) #comparison\n",
      "    return F[0,(M+1)/2] #returns the option value\n",
      "\n",
      "print \"The value of an American call option is\" , OptioncallI(150,50,5/12.0,100,50,0.1,0.25)\n"
     ],
     "language": "python",
     "metadata": {},
     "outputs": [
      {
       "output_type": "stream",
       "stream": "stdout",
       "text": [
        "The value of an American call option is "
       ]
      },
      {
       "output_type": "stream",
       "stream": "stdout",
       "text": [
        "27.0535017473\n"
       ]
      }
     ],
     "prompt_number": 1
    },
    {
     "cell_type": "code",
     "collapsed": false,
     "input": [],
     "language": "python",
     "metadata": {},
     "outputs": []
    }
   ],
   "metadata": {}
  }
 ]
}