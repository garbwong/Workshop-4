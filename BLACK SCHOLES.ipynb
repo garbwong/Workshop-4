{
 "metadata": {
  "name": "",
  "signature": "sha256:6de74fac5f11e102743471d3ca89a000c48bf36865822cbd1db22cf5a6c34ff1"
 },
 "nbformat": 3,
 "nbformat_minor": 0,
 "worksheets": [
  {
   "cells": [
    {
     "cell_type": "code",
     "collapsed": false,
     "input": [
      "import math\n",
      "from scipy.special import erf\n",
      "import numpy as np\n",
      "\n",
      "\n",
      "#The Black Scholes Model\n",
      "\n",
      "S = 75                   #The price of underlying asset\n",
      "K = 50                   #The Exercise price of the underlying asset\n",
      "r = 0.1                  #The risk-free interest rate\n",
      "sigma = 0.25             #The volatility of the underlying asset\n",
      "T = 5/12.0               #The maturation of the contract\n",
      "\n",
      "def d1(S, K, r, sigma, T):\n",
      "    return (np.log(S/float(K)) + (r+ sigma**2/2.0)*T)/(sigma * np.sqrt(T))\n",
      "\n",
      "def d2(S, K, r, sigma, T):\n",
      "    return (np.log(S/float(K)) + (r- sigma**2/2.0)*T)/(sigma * np.sqrt(T))\n",
      "\n",
      "#Using the Black scholes to determine the price a call option\n",
      "def phi(x):\n",
      "    return (1.0/2)*(1+erf(x/math.sqrt(2)))   #defines the cummulative distribution function\n",
      "\n",
      "def calloption(S,K,r,sigma,T):  #calculates the value of the call option value at the expiry\n",
      "    F = S*phi(d1(S, K, r, sigma, T))\n",
      "    R = K*math.exp(-r*T)*phi(d2(S, K, r, sigma, T))\n",
      "    return F-R\n",
      "\n",
      "#The function below calculates the American call option by comparing the expected of \n",
      "#the waiting till expiry to the value of early exercise\n",
      "\n",
      "def Acall(S,T): \n",
      "    return max(S-K, calloption(S,K,r,sigma,T))\n",
      "\n",
      "print \"The value of an American call option is \", Acall(S,T)\n",
      "\n"
     ],
     "language": "python",
     "metadata": {},
     "outputs": [
      {
       "output_type": "stream",
       "stream": "stdout",
       "text": [
        "The value of an American call option is  27.0486271048\n"
       ]
      }
     ],
     "prompt_number": 2
    },
    {
     "cell_type": "code",
     "collapsed": false,
     "input": [],
     "language": "python",
     "metadata": {},
     "outputs": []
    }
   ],
   "metadata": {}
  }
 ]
}