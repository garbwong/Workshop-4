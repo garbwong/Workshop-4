{
 "metadata": {
  "name": "",
  "signature": "sha256:55e7955e298256afffe71e10813c8a69a82de661d395d182bf231543222f76f1"
 },
 "nbformat": 3,
 "nbformat_minor": 0,
 "worksheets": [
  {
   "cells": [
    {
     "cell_type": "code",
     "collapsed": false,
     "input": [
      "import numpy as np\n",
      "def OptioncallCN(Smax,M,T,N,K,r,sigma):\n",
      "\n",
      "    #discretization\n",
      "    dt = T/float(N)              #The time step\n",
      "    dS = Smax/float(M)           #The price step\n",
      "\n",
      "    #initializing the risk neutral probabilities\n",
      "\n",
      "    P=[0.25*sigma**2*i**2*dt-0.25*r*i*dt for i in range(1,M)]\n",
      "    Q=[-0.5*sigma**2*i**2*dt-0.5*r*dt for i in range(1,M)]\n",
      "    R=[0.25*sigma**2*i**2*dt+0.25*r*i*dt for i in range(1,M)]\n",
      "\n",
      "    #computes the matrices A and B\n",
      "    \n",
      "    x=np.array\n",
      "    A=np.diag(1-x(Q))+np.diag(-x(P[1:M-1]),k=-1)+np.diag(-x(R[0:M-2]),k=1)\n",
      "    B=np.diag(1+x(Q))+np.diag(x(P[1:M-1]),k=-1)+np.diag(x(R[0:M-2]),k=1)\n",
      "\n",
      "    f = np.zeros((N+1,M+1)) #the matrix for the option price\n",
      "\n",
      "    #boundary conditions\n",
      "    f[:,0]=0\n",
      "    f[:,M]=[Smax * np.exp(-r*( N - j)*dt) for j in range(N+1)]\n",
      "    f[N,:]=np.maximum(np.arange(0,Smax+dS/2.0,dS,dtype=np.float)-K,0)\n",
      "\n",
      "\n",
      "    f=np.matrix(np.array(f))\n",
      "\n",
      "    for j in range(N-1,-1,-1): #the discounting process\n",
      "        b=np.zeros((M-1,1))  #computes the matrix b\n",
      "        \n",
      "        #inserts the first and the last element\n",
      "        b[0]=(0.25*sigma**2*1**2*dt-0.25*r*1*dt)*(f[j,0]+f[j+1,0])\n",
      "        b[M-2]=(0.25*dt*(sigma**2*(M-1)**2+r*(M-1)))*(f[j,M]+f[j+1,M])\n",
      "    \n",
      "        G = (np.linalg.inv(A))*(B*f[j+1,1:M].transpose()+b) #solves for f_{i,j}\n",
      "        f[j,1:M] = G.transpose()\n",
      "        f[j,:]=np.maximum(np.matrix(np.arange(0,Smax+dS/2.0,dS,dtype=np.float))-K,f[j,:])\n",
      "    return f[0,(M+1)/2.0]\n",
      "    \n",
      "print \"The value of an American call option is\" , OptioncallCN(150,50,5/12.0,100,50,0.1,0.25)\n"
     ],
     "language": "python",
     "metadata": {},
     "outputs": [
      {
       "output_type": "stream",
       "stream": "stdout",
       "text": [
        "The value of an American call option is 27.0526596771\n"
       ]
      }
     ],
     "prompt_number": 1
    },
    {
     "cell_type": "code",
     "collapsed": false,
     "input": [],
     "language": "python",
     "metadata": {},
     "outputs": []
    }
   ],
   "metadata": {}
  }
 ]
}