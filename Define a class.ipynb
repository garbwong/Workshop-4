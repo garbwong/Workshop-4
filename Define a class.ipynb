{
 "cells": [
  {
   "cell_type": "markdown",
   "metadata": {},
   "source": [
    "# Object Oriented Programming"
   ]
  },
  {
   "cell_type": "markdown",
   "metadata": {},
   "source": [
    "# Objects are real world objects like cars, dogs, chair, table, etc. The objects share two characteristics: data and behavior."
   ]
  },
  {
   "cell_type": "markdown",
   "metadata": {},
   "source": [
    "# For example, cars have data like number of wheels, number of doors, seating capacity. Behavior: accelerate, stop, show how much fuel is missing."
   ]
  },
  {
   "cell_type": "markdown",
   "metadata": {},
   "source": [
    "# Data as attributes and behavior as methods (functions) in object oriented programming."
   ]
  },
  {
   "cell_type": "markdown",
   "metadata": {
    "collapsed": true
   },
   "source": [
    "# Class and Object are the main two aspects. Object is the collection of data and functions.  A class is the blueprint or template for object.."
   ]
  },
  {
   "cell_type": "markdown",
   "metadata": {},
   "source": [
    "# Compared with other programming languages, Python class mechanism adds a minimum of new syntax and semantics. Python classes provide all the standard features of Object Oriented Programming such as the class inheritance mechanism allows multiple base classes, a derived class can override any methods of its base class and a method can call the method of a base class with the same name"
   ]
  },
  {
   "cell_type": "raw",
   "metadata": {},
   "source": [
    "Advantage of OOP:\n",
    "1. Through inheritance we can achieve reusability. Also eliminate redundant code.\n",
    "2. The principle of data hiding helps to build secure program.\n",
    "3. Since objects represent real world object, so oops provide a clear structure of the program which becomes easy to map real world problem and give solution.\n",
    "4. It enhances program modularity since each object exists independently."
   ]
  },
  {
   "cell_type": "code",
   "execution_count": 1,
   "metadata": {
    "collapsed": true
   },
   "outputs": [],
   "source": [
    "class Options:\n",
    "    \n",
    "    time = 2\n",
    "    strike = 70\n",
    "    \n",
    "    \n",
    "    def in_the_money(self):\n",
    "        print(\"in the money\")\n",
    "          \n",
    "    def at_the_money(self):\n",
    "        print(\"at the money\")\n",
    "        \n",
    "    def out_of_money(self):\n",
    "        print(\"out of money\")"
   ]
  },
  {
   "cell_type": "code",
   "execution_count": 2,
   "metadata": {
    "collapsed": true
   },
   "outputs": [],
   "source": [
    "HSBC = Options()"
   ]
  },
  {
   "cell_type": "code",
   "execution_count": 3,
   "metadata": {},
   "outputs": [
    {
     "data": {
      "text/plain": [
       "70"
      ]
     },
     "execution_count": 3,
     "metadata": {},
     "output_type": "execute_result"
    }
   ],
   "source": [
    "HSBC.strike"
   ]
  },
  {
   "cell_type": "code",
   "execution_count": 4,
   "metadata": {},
   "outputs": [
    {
     "name": "stdout",
     "output_type": "stream",
     "text": [
      "in the money\n"
     ]
    }
   ],
   "source": [
    "HSBC.in_the_money()"
   ]
  },
  {
   "cell_type": "code",
   "execution_count": null,
   "metadata": {
    "collapsed": true
   },
   "outputs": [],
   "source": []
  }
 ],
 "metadata": {
  "kernelspec": {
   "display_name": "Python 3",
   "language": "python",
   "name": "python3"
  },
  "language_info": {
   "codemirror_mode": {
    "name": "ipython",
    "version": 3
   },
   "file_extension": ".py",
   "mimetype": "text/x-python",
   "name": "python",
   "nbconvert_exporter": "python",
   "pygments_lexer": "ipython3",
   "version": "3.6.2"
  }
 },
 "nbformat": 4,
 "nbformat_minor": 2
}
